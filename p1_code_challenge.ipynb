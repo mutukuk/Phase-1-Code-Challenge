{
  "cells": [
    {
      "cell_type": "markdown",
      "metadata": {
        "id": "view-in-github",
        "colab_type": "text"
      },
      "source": [
        "<a href=\"https://colab.research.google.com/github/mutukuk/Phase-1-Code-Challenge/blob/main/p1_code_challenge.ipynb\" target=\"_parent\"><img src=\"https://colab.research.google.com/assets/colab-badge.svg\" alt=\"Open In Colab\"/></a>"
      ]
    },
    {
      "cell_type": "markdown",
      "metadata": {
        "nbgrader": {
          "grade": false,
          "grade_id": "cell-1dc8c072d516f820",
          "locked": true,
          "schema_version": 3,
          "solution": false,
          "task": false
        },
        "id": "-wSx0B3mb3yZ"
      },
      "source": [
        "# Phase 1 Code Challenge\n",
        "This code challenge is designed to test your understanding of the Phase 1 material. It covers:\n",
        "\n",
        "- Pandas\n",
        "- Data Visualization\n",
        "- Exploring Statistical Data\n",
        "- Python Data Structures\n",
        "\n",
        "*Read the instructions carefully.* Your code will need to meet detailed specifications to pass automated tests.\n",
        "\n",
        "## Code Tests\n",
        "\n",
        "We have provided some code tests for you to run to check that your work meets the item specifications. Passing these tests does not necessarily mean that you have gotten the item correct - there are additional hidden tests. However, if any of the tests do not pass, this tells you that your code is incorrect and needs changes to meet the specification. To determine what the issue is, read the comments in the code test cells, the error message you receive, and the item instructions."
      ]
    },
    {
      "cell_type": "markdown",
      "metadata": {
        "nbgrader": {
          "grade": false,
          "grade_id": "cell-9cdee0770b4e45d9",
          "locked": true,
          "schema_version": 3,
          "solution": false,
          "task": false
        },
        "id": "IajFED6qb3yb"
      },
      "source": [
        "---\n",
        "## Part 1: Pandas [Suggested Time: 15 minutes]\n",
        "---\n",
        "In this part, you will preprocess a dataset from the video game [FIFA19](https://www.kaggle.com/karangadiya/fifa19), which contains data from the players' real-life careers."
      ]
    },
    {
      "cell_type": "code",
      "execution_count": 10,
      "metadata": {
        "nbgrader": {
          "grade": false,
          "grade_id": "cell-6b5542e3f39ef221",
          "locked": true,
          "schema_version": 3,
          "solution": false,
          "task": false
        },
        "id": "zBFoOcJjb3yb"
      },
      "outputs": [],
      "source": [
        "# Run this cell without changes\n",
        "\n",
        "import pandas as pd\n",
        "import numpy as np\n",
        "from numbers import Number\n",
        "import warnings\n",
        "warnings.filterwarnings('ignore')"
      ]
    },
    {
      "cell_type": "markdown",
      "metadata": {
        "nbgrader": {
          "grade": false,
          "grade_id": "cell-b9b25e040991b1e6",
          "locked": true,
          "schema_version": 3,
          "solution": false,
          "task": false
        },
        "id": "4ddZt_RSb3yc"
      },
      "source": [
        "### 1.1) Read `fifa.csv` into a pandas DataFrame named `df`\n",
        "\n",
        "Use pandas to create a new DataFrame, called `df`, containing the data from the dataset in the file `fifa.csv` in the folder containing this notebook.\n",
        "\n",
        "Hint: Use the string `'./fifa.csv'` as the file reference."
      ]
    },
    {
      "cell_type": "code",
      "execution_count": 11,
      "metadata": {
        "nbgrader": {
          "grade": false,
          "grade_id": "cell-18fbca9dcea2ebbd",
          "locked": true,
          "schema_version": 3,
          "solution": false,
          "task": false
        },
        "id": "pGDMznO6b3yc"
      },
      "outputs": [],
      "source": [
        "# CodeGrade step1.1\n",
        "# Replace None with appropriate code\n",
        "\n",
        "# Reading the FIFA dataset\n",
        "df = pd.read_csv('./fifa.csv')\n"
      ]
    },
    {
      "cell_type": "code",
      "execution_count": 12,
      "metadata": {
        "id": "Mk0kgX8Tb3yc"
      },
      "outputs": [],
      "source": [
        "# This test confirms that you have created a DataFrame named df\n",
        "\n",
        "assert type(df) == pd.DataFrame"
      ]
    },
    {
      "cell_type": "markdown",
      "metadata": {
        "nbgrader": {
          "grade": false,
          "grade_id": "cell-42ef866849a4d833",
          "locked": true,
          "schema_version": 3,
          "solution": false,
          "task": false
        },
        "id": "UJSq-yMyb3yc"
      },
      "source": [
        "### 1.2) Convert the `'Release Clause'` values from Euros to dollars\n",
        "\n",
        "The `'Release Clause'` variable contains prices denominated in Euros. Use the exchange rate `1 Euro = 1.2 Dollars` to convert the prices to dollars."
      ]
    },
    {
      "cell_type": "code",
      "execution_count": 13,
      "metadata": {
        "id": "PuGVWBVPb3yd"
      },
      "outputs": [],
      "source": [
        "# CodeGrade step1.2\n",
        "# Replace None with appropriate code\n",
        "\n",
        "df['Release Clause'] = df['Release Clause'] * 1.2"
      ]
    },
    {
      "cell_type": "markdown",
      "metadata": {
        "nbgrader": {
          "grade": false,
          "grade_id": "cell-e9a1540ffff85098",
          "locked": true,
          "schema_version": 3,
          "solution": false,
          "task": false
        },
        "id": "WygP4nozb3yd"
      },
      "source": [
        "### 1.3) Drop rows from `df` with missing values for the `'Release Clause'` feature.\n",
        "    \n",
        "Make sure that `df` remains the name of the dataset with the dropped rows."
      ]
    },
    {
      "cell_type": "code",
      "execution_count": 14,
      "metadata": {
        "id": "sc0M_BLIb3yd"
      },
      "outputs": [],
      "source": [
        "# CodeGrade step1.3\n",
        "# Replace None with appropriate code\n",
        "df = df.dropna(subset=['Release Clause'])"
      ]
    },
    {
      "cell_type": "code",
      "execution_count": 15,
      "metadata": {
        "id": "KDXhOFgIb3yd"
      },
      "outputs": [],
      "source": [
        "# This test confirms that your dataset has the correct number of observations after dropping\n",
        "\n",
        "assert df['Release Clause'].shape[0] == 16643"
      ]
    },
    {
      "cell_type": "markdown",
      "metadata": {
        "nbgrader": {
          "grade": false,
          "grade_id": "cell-be6ad3929cc953e5",
          "locked": true,
          "schema_version": 3,
          "solution": false,
          "task": false
        },
        "id": "9wRhDZ1xb3yd"
      },
      "source": [
        "### 1.4) Create a list `top_10_countries` containing the names of the 10 countries with the most players (using the `'Nationality'` column).\n",
        "\n",
        "Hint: Your answer should include England, Germany, Spain, France, and Argentina"
      ]
    },
    {
      "cell_type": "code",
      "execution_count": 16,
      "metadata": {
        "nbgrader": {
          "grade": false,
          "grade_id": "cell-a33121d22f5d8535",
          "locked": true,
          "schema_version": 3,
          "solution": false,
          "task": false
        },
        "id": "e9e2ABMhb3yd"
      },
      "outputs": [],
      "source": [
        "# CodeGrade step1.4\n",
        "# Replace None with appropriate code\n",
        "\n",
        "top_10_countries = df['Nationality'].value_counts().head(10).index.tolist()"
      ]
    },
    {
      "cell_type": "code",
      "execution_count": 17,
      "metadata": {
        "id": "ALuSytLXb3ye"
      },
      "outputs": [],
      "source": [
        "# This test confirms that you have created a list named top_10_countries\n",
        "\n",
        "assert type(top_10_countries) == list\n",
        "\n",
        "# This test confirms that top_10_countries contains England, Germany, Spain, France, and Argentina\n",
        "\n",
        "assert set(['England', 'Germany', 'Spain', 'France', 'Argentina']).issubset(set(top_10_countries))"
      ]
    },
    {
      "cell_type": "markdown",
      "metadata": {
        "nbgrader": {
          "grade": false,
          "grade_id": "cell-f9d5841f356a5a8a",
          "locked": true,
          "schema_version": 3,
          "solution": false,
          "task": false
        },
        "id": "v3p01fh2b3ye"
      },
      "source": [
        "## Part 2: Data Visualization [Suggested Time: 20 minutes]\n",
        "This part uses the same FIFA dataset, and asks you to plot data using `matplotlib`."
      ]
    },
    {
      "cell_type": "code",
      "execution_count": 18,
      "metadata": {
        "nbgrader": {
          "grade": false,
          "grade_id": "cell-0b27595ca9348a59",
          "locked": true,
          "schema_version": 3,
          "solution": false,
          "task": false
        },
        "id": "f2FS5RPVb3ye"
      },
      "outputs": [],
      "source": [
        "# Run this cell without changes\n",
        "\n",
        "import matplotlib\n",
        "import matplotlib.pyplot as plt"
      ]
    },
    {
      "cell_type": "markdown",
      "metadata": {
        "nbgrader": {
          "grade": false,
          "grade_id": "cell-112f61d031df8fca",
          "locked": true,
          "schema_version": 3,
          "solution": false,
          "task": false
        },
        "id": "P3QUzU5Gb3ye"
      },
      "source": [
        "### 2.1) Create a matplotlib figure `player_count_figure` containing a labeled bar chart with the number of players from England, Germany, Spain, France, and Argentina\n",
        "\n",
        "Use the strings provided below (`bar_chart_title`, `bar_chart_count_label`, and `bar_chart_series_label`) to title and label your bar chart.\n",
        "\n",
        "Hint: These are the countries with the top 5 numbers of players, so you may be able to adapt some of the code you used for question 1.4. If you were unable to complete 1.4, use the following values:\n",
        "\n",
        "```\n",
        "Country Name  | Num Players\n",
        "============  | ===========\n",
        "England       | 1000\n",
        "Germany       | 900\n",
        "Spain         | 800\n",
        "France        | 700\n",
        "Argentina     | 600\n",
        "```"
      ]
    },
    {
      "cell_type": "code",
      "execution_count": 19,
      "metadata": {
        "colab": {
          "base_uri": "https://localhost:8080/",
          "height": 581
        },
        "id": "pOiuvAccb3ye",
        "outputId": "61801575-eb2e-4bd9-8ae4-96f840fe922d"
      },
      "outputs": [
        {
          "output_type": "execute_result",
          "data": {
            "text/plain": [
              "Text(0, 0.5, 'Number of Players')"
            ]
          },
          "metadata": {},
          "execution_count": 19
        },
        {
          "output_type": "display_data",
          "data": {
            "text/plain": [
              "<Figure size 1000x600 with 1 Axes>"
            ],
            "image/png": "[encoded data removed]"
          },
          "metadata": {}
        }
      ],
      "source": [
        "# CodeGrade step2.1\n",
        "# Replace None with appropriate code\n",
        "\n",
        "bar_chart_countries = ['England', 'Germany', 'Spain', 'France', 'Argentina']\n",
        "\n",
        "bar_chart_title = '5 Countries with the Most Players'\n",
        "bar_chart_count_label = 'Number of Players'\n",
        "bar_chart_series_label = 'Nationality'\n",
        "\n",
        "\n",
        "\n",
        "top_5_countries = df['Nationality'].value_counts().loc[bar_chart_countries]\n",
        "\n",
        "player_count_figure, ax = plt.subplots(figsize=(10, 6))\n",
        "\n",
        "\n",
        "x = top_5_countries.index  # Country names\n",
        "heights = top_5_countries.values  # Player counts\n",
        " #Plot the bar chart\n",
        "ax.bar(x, heights, color='skyblue')\n",
        "# title\n",
        "ax.set_title(bar_chart_title)\n",
        "# x-axis label\n",
        "ax.set_xlabel(bar_chart_series_label)\n",
        "# y-axis label\n",
        "ax.set_ylabel(bar_chart_count_label)\n"
      ]
    },
    {
      "cell_type": "code",
      "execution_count": 20,
      "metadata": {
        "id": "o5gDcyfBb3yf"
      },
      "outputs": [],
      "source": [
        "# This test confirms that you have created a figure named player_count_figure\n",
        "\n",
        "assert type(player_count_figure) == plt.Figure\n",
        "\n",
        "# This test confirms that the figure contains exactly one axis\n",
        "\n",
        "assert len(player_count_figure.axes) == 1"
      ]
    },
    {
      "cell_type": "code",
      "execution_count": 21,
      "metadata": {
        "id": "TLV3teD0b3yf"
      },
      "outputs": [],
      "source": [
        "# These tests confirm that the figure has a title and axis labels\n",
        "\n",
        "assert player_count_figure.axes[0].get_title() != ''\n",
        "assert player_count_figure.axes[0].get_ylabel() != ''\n",
        "assert player_count_figure.axes[0].get_xlabel() != ''"
      ]
    },
    {
      "cell_type": "markdown",
      "metadata": {
        "nbgrader": {
          "grade": false,
          "grade_id": "cell-70190139727d20a2",
          "locked": true,
          "schema_version": 3,
          "solution": false,
          "task": false
        },
        "id": "gy8BEgknb3yf"
      },
      "source": [
        "### 2.2) Create a matplotlib figure `tackle_figure` containing a labeled scatter plot visualizing the relationship between `StandingTackle` (on X axis) and `SlidingTackle` (on Y axis)\n",
        "\n",
        "Use the strings provided below (`scatter_plot_title`, `standing_tackle_label`, and `sliding_tackle_label`) to title and label your scatter plot."
      ]
    },
    {
      "cell_type": "code",
      "execution_count": 22,
      "metadata": {
        "nbgrader": {
          "grade": false,
          "grade_id": "cell-064cad4a79f53237",
          "locked": false,
          "schema_version": 3,
          "solution": true,
          "task": false
        },
        "colab": {
          "base_uri": "https://localhost:8080/",
          "height": 581
        },
        "id": "2Bl_std_b3yg",
        "outputId": "6095e72e-cec1-47ea-f489-1ebcf9e0e99c"
      },
      "outputs": [
        {
          "output_type": "execute_result",
          "data": {
            "text/plain": [
              "Text(0, 0.5, 'Sliding Tackles')"
            ]
          },
          "metadata": {},
          "execution_count": 22
        },
        {
          "output_type": "display_data",
          "data": {
            "text/plain": [
              "<Figure size 1000x600 with 1 Axes>"
            ],
            "image/png": "[encoded data removed]"
          },
          "metadata": {}
        }
      ],
      "source": [
        "# CodeGrade step2.2\n",
        "\n",
        "scatter_plot_title = 'Relationship Between Standing Tackles and Sliding Tackles'\n",
        "standing_tackle_label = 'Standing Tackles'\n",
        "sliding_tackle_label = 'Sliding Tackles'\n",
        "\n",
        "tackle_figure, ax = plt.subplots(figsize=(10, 6))\n",
        "\n",
        "# Scatter plot data\n",
        "x = df['StandingTackle']\n",
        "y = df['SlidingTackle']\n",
        "\n",
        "# Your code here\n",
        "ax.scatter(x, y, alpha=0.6, color=\"blue\")\n",
        "# title\n",
        "ax.set_title(scatter_plot_title)\n",
        "# x-axis label\n",
        "ax.set_xlabel(standing_tackle_label)\n",
        "# y-axis label\n",
        "ax.set_ylabel(sliding_tackle_label)"
      ]
    },
    {
      "cell_type": "code",
      "execution_count": 23,
      "metadata": {
        "id": "YqBNCM39b3yg"
      },
      "outputs": [],
      "source": [
        "# This test confirms that you have created a figure named tackle_figure\n",
        "\n",
        "assert type(tackle_figure) == plt.Figure\n",
        "\n",
        "# This test confirms that the figure contains exactly one axis\n",
        "\n",
        "assert len(tackle_figure.axes) == 1"
      ]
    },
    {
      "cell_type": "markdown",
      "metadata": {
        "nbgrader": {
          "grade": false,
          "grade_id": "cell-d6d6af6c94216981",
          "locked": true,
          "schema_version": 3,
          "solution": false,
          "task": false
        },
        "id": "UXvHOnptb3yg"
      },
      "source": [
        "## Part 3: Exploring Statistical Data [Suggested Time: 20 minutes]\n",
        "This part does some exploratory analysis using the same FIFA dataset."
      ]
    },
    {
      "cell_type": "markdown",
      "metadata": {
        "nbgrader": {
          "grade": false,
          "grade_id": "cell-1f6263e9b6ccbe48",
          "locked": true,
          "schema_version": 3,
          "solution": false,
          "task": false
        },
        "id": "1yYbWHhlb3yg"
      },
      "source": [
        "### 3.1) Create numeric variables `mean_age` and `median_age` containing the mean and median player ages (respectively)."
      ]
    },
    {
      "cell_type": "code",
      "execution_count": 24,
      "metadata": {
        "nbgrader": {
          "grade": false,
          "grade_id": "cell-8182a47b74d8308c",
          "locked": true,
          "schema_version": 3,
          "solution": false,
          "task": false
        },
        "id": "2Gqq3jnrb3yg"
      },
      "outputs": [],
      "source": [
        "# CodeGrade step3.1\n",
        "# Replace None with appropriate code\n",
        "\n",
        "mean_age = df['Age'].mean()\n",
        "median_age = df['Age'].median()"
      ]
    },
    {
      "cell_type": "code",
      "execution_count": 25,
      "metadata": {
        "id": "jzDo95_Rb3yg"
      },
      "outputs": [],
      "source": [
        "# These tests confirm that you have created numeric variables named mean_age and median_age\n",
        "\n",
        "assert isinstance(mean_age, Number)\n",
        "assert isinstance(median_age, Number)"
      ]
    },
    {
      "cell_type": "markdown",
      "metadata": {
        "nbgrader": {
          "grade": false,
          "grade_id": "cell-53c00926ddd0e281",
          "locked": true,
          "schema_version": 3,
          "solution": false,
          "task": false
        },
        "id": "Aby2sOEdb3yg"
      },
      "source": [
        "### 3.2) Create a string variable `oldest_argentine_name` and a numeric variable `oldest_argentine_age` containing the name and age (respectively) of the oldest player with Argentina nationality."
      ]
    },
    {
      "cell_type": "code",
      "execution_count": 27,
      "metadata": {
        "nbgrader": {
          "grade": false,
          "grade_id": "cell-8a8f465bb935cc1a",
          "locked": true,
          "schema_version": 3,
          "solution": false,
          "task": false
        },
        "id": "zdh7Cx06b3yg"
      },
      "outputs": [],
      "source": [
        "# Filter players with Argentine nationality\n",
        "argentines = df[df['Nationality'] == 'Argentina']\n",
        "\n",
        "# Find the oldest Argentine player\n",
        "oldest_argentine_age = argentines['Age'].max()\n",
        "oldest_argentine_name = argentines[argentines['Age'] == oldest_argentine_age]['Name'].iloc[0]"
      ]
    },
    {
      "cell_type": "code",
      "execution_count": 28,
      "metadata": {
        "id": "yBldhGMmb3yh"
      },
      "outputs": [],
      "source": [
        "# This test confirms that you have created a string variable named oldest_argentine_name\n",
        "\n",
        "assert type(oldest_argentine_name) == str\n",
        "\n",
        "# This test confirms that you have created a numeric variable named oldest_argentine_age\n",
        "\n",
        "assert isinstance(oldest_argentine_age, Number)"
      ]
    },
    {
      "cell_type": "markdown",
      "metadata": {
        "nbgrader": {
          "grade": false,
          "grade_id": "cell-a7ce98ae6d482777",
          "locked": true,
          "schema_version": 3,
          "solution": false,
          "task": false
        },
        "id": "bhfyM40-b3yh"
      },
      "source": [
        "## Part 4: Python Data Structures [Suggested Time: 20 min]\n",
        "\n",
        "Below is a dictionary `players` with information about soccer players. The keys are player names and the values are dictionaries containing each player's age, nationality, and a list of teams they have played for."
      ]
    },
    {
      "cell_type": "code",
      "execution_count": 30,
      "metadata": {
        "nbgrader": {
          "grade": false,
          "grade_id": "cell-aeec0f73b4c2686e",
          "locked": true,
          "schema_version": 3,
          "solution": false,
          "task": false
        },
        "id": "UKdfnk9Xb3yh"
      },
      "outputs": [],
      "source": [
        "# Run this cell without changes\n",
        "\n",
        "players = {\n",
        "    'L. Messi': {\n",
        "        'age': 31,\n",
        "        'nationality': 'Argentina',\n",
        "        'teams': ['Barcelona']\n",
        "    },\n",
        "    'Cristiano Ronaldo': {\n",
        "        'age': 33,\n",
        "        'nationality': 'Portugal',\n",
        "        'teams': ['Juventus', 'Real Madrid', 'Manchester United']\n",
        "    },\n",
        "    'Neymar Jr': {\n",
        "        'age': 26,\n",
        "        'nationality': 'Brazil',\n",
        "        'teams': ['Santos', 'Barcelona', 'Paris Saint-German']\n",
        "    },\n",
        "    'De Gea': {\n",
        "        'age': 27,\n",
        "        'nationality': 'Spain',\n",
        "        'teams': ['Atletico Madrid', 'Manchester United']\n",
        "    },\n",
        "    'K. De Bruyne': {\n",
        "        'age': 27,\n",
        "        'nationality': 'Belgium',\n",
        "        'teams': ['Chelsea', 'Manchester City']\n",
        "    }\n",
        "}"
      ]
    },
    {
      "cell_type": "markdown",
      "metadata": {
        "nbgrader": {
          "grade": false,
          "grade_id": "cell-c53443152551683e",
          "locked": true,
          "schema_version": 3,
          "solution": false,
          "task": false
        },
        "id": "r-FkD2fAb3yh"
      },
      "source": [
        "### 4.1) Create a list `player_names` of all the player names in dictionary `players`."
      ]
    },
    {
      "cell_type": "code",
      "execution_count": 31,
      "metadata": {
        "nbgrader": {
          "grade": false,
          "grade_id": "cell-59b73bc797a324dd",
          "locked": true,
          "schema_version": 3,
          "solution": false,
          "task": false
        },
        "id": "Iv5N5Udmb3yh"
      },
      "outputs": [],
      "source": [
        "# CodeGrade step4.1\n",
        "# Replace None with appropriate code\n",
        "\n",
        "player_names = list(players.keys())"
      ]
    },
    {
      "cell_type": "code",
      "execution_count": 32,
      "metadata": {
        "id": "K_OrqnXRb3yh"
      },
      "outputs": [],
      "source": [
        "# This test confirms that you have created a list named player_names\n",
        "\n",
        "assert type(player_names) == list"
      ]
    },
    {
      "cell_type": "markdown",
      "metadata": {
        "nbgrader": {
          "grade": false,
          "grade_id": "cell-b9f6a94ed0a0865e",
          "locked": true,
          "schema_version": 3,
          "solution": false,
          "task": false
        },
        "id": "SIJDgjwUb3yh"
      },
      "source": [
        "### 4.2) Create a list of tuples `player_nationalities` containing each player's name along with their nationality."
      ]
    },
    {
      "cell_type": "code",
      "execution_count": 33,
      "metadata": {
        "nbgrader": {
          "grade": false,
          "grade_id": "cell-b52f98d5a617ecee",
          "locked": true,
          "schema_version": 3,
          "solution": false,
          "task": false
        },
        "id": "ZTwJ-EP1b3yi"
      },
      "outputs": [],
      "source": [
        "# CodeGrade step4.2\n",
        "# Replace None with appropriate code\n",
        "\n",
        "player_nationalities =  [(name, info['nationality']) for name, info in players.items()]"
      ]
    },
    {
      "cell_type": "code",
      "execution_count": 34,
      "metadata": {
        "id": "4AHs9_pmb3yi"
      },
      "outputs": [],
      "source": [
        "# This test confirms that you have created a list named player_nationalities\n",
        "\n",
        "assert type(player_nationalities) == list"
      ]
    },
    {
      "cell_type": "markdown",
      "metadata": {
        "nbgrader": {
          "grade": false,
          "grade_id": "cell-87a014f4e268c1d7",
          "locked": true,
          "schema_version": 3,
          "solution": false,
          "task": false
        },
        "id": "9Q-EXCsXb3yi"
      },
      "source": [
        "### 4.3) Define a function `get_players_on_team()` that returns a list of names of all the players who have played on a given team.\n",
        "\n",
        "Your function should take two arguments:\n",
        "\n",
        "- A dictionary of player information\n",
        "- A string containing a team name (for which you are trying to find the player names)"
      ]
    },
    {
      "cell_type": "code",
      "execution_count": 36,
      "metadata": {
        "nbgrader": {
          "grade": false,
          "grade_id": "cell-9546ae6235a3a164",
          "locked": true,
          "schema_version": 3,
          "solution": false,
          "task": false
        },
        "id": "UjCBL9Ubb3yo"
      },
      "outputs": [],
      "source": [
        "# CodeGrade step4.3\n",
        "\n",
        "def get_players_on_team(player_dict, team_name):\n",
        "    player_list = []\n",
        "\n",
        "    # Your code here\n",
        "     # Iterate through the dictionary of players\n",
        "    for player_name, info in player_dict.items():\n",
        "        # Check if the team is in the player's list of teams\n",
        "        if team_name in info['teams']:\n",
        "            # Add the player's name to the list\n",
        "            player_list.append(player_name)\n",
        "\n",
        "    return player_list"
      ]
    },
    {
      "cell_type": "code",
      "execution_count": 37,
      "metadata": {
        "id": "QjuriTfnb3yp"
      },
      "outputs": [],
      "source": [
        "# This test confirms that get_players_on_team() returns the right names for Manchester United\n",
        "\n",
        "manchester_united_players = ['Cristiano Ronaldo', 'De Gea']\n",
        "players_on_manchester_united = get_players_on_team(players, 'Manchester United')\n",
        "\n",
        "assert players_on_manchester_united == manchester_united_players"
      ]
    }
  ],
  "metadata": {
    "celltoolbar": "Create Assignment",
    "kernelspec": {
      "display_name": "Python (learn-env)",
      "language": "python",
      "name": "learn-env"
    },
    "language_info": {
      "codemirror_mode": {
        "name": "ipython",
        "version": 3
      },
      "file_extension": ".py",
      "mimetype": "text/x-python",
      "name": "python",
      "nbconvert_exporter": "python",
      "pygments_lexer": "ipython3",
      "version": "3.8.5"
    },
    "colab": {
      "provenance": [],
      "include_colab_link": true
    }
  },
  "nbformat": 4,
  "nbformat_minor": 0
}